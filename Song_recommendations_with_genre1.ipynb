{
  "nbformat": 4,
  "nbformat_minor": 0,
  "metadata": {
    "colab": {
      "name": "Song recommendations with genre.ipynb",
      "provenance": [],
      "collapsed_sections": [],
      "authorship_tag": "ABX9TyMzObjGP2Cxt9O8dbZgAQTT",
      "include_colab_link": true
    },
    "kernelspec": {
      "name": "python3",
      "display_name": "Python 3"
    },
    "accelerator": "GPU"
  },
  "cells": [
    {
      "cell_type": "markdown",
      "metadata": {
        "id": "view-in-github",
        "colab_type": "text"
      },
      "source": [
        "<a href=\"https://colab.research.google.com/github/sonichandni/Song-Recommendations/blob/master/Song_recommendations_with_genre1.ipynb\" target=\"_parent\"><img src=\"https://colab.research.google.com/assets/colab-badge.svg\" alt=\"Open In Colab\"/></a>"
      ]
    },
    {
      "cell_type": "code",
      "metadata": {
        "id": "jX0NqcbRmFlH",
        "colab_type": "code",
        "colab": {}
      },
      "source": [
        "%tensorflow_version 2.x"
      ],
      "execution_count": 0,
      "outputs": []
    },
    {
      "cell_type": "code",
      "metadata": {
        "id": "pPief-NzmaMR",
        "colab_type": "code",
        "colab": {}
      },
      "source": [
        "import pandas as pd\n",
        "import numpy as np\n",
        "import random\n",
        "from tqdm import tqdm\n",
        "from gensim.models import Word2Vec \n",
        "import matplotlib.pyplot as plt\n",
        "%matplotlib inline\n",
        "\n",
        "import warnings;\n",
        "warnings.filterwarnings('ignore')"
      ],
      "execution_count": 0,
      "outputs": []
    },
    {
      "cell_type": "code",
      "metadata": {
        "id": "npKOsaSomkAd",
        "colab_type": "code",
        "outputId": "6fd4f357-a07b-4067-fea3-eb77087f907e",
        "colab": {
          "base_uri": "https://localhost:8080/",
          "height": 393
        }
      },
      "source": [
        "!wget https://raw.githubusercontent.com/sonichandni/Song-Recommendations/master/songs.csv\n",
        "df = pd.read_csv('songs.csv',  encoding = \"ISO-8859-1\")\n",
        "df.head()"
      ],
      "execution_count": 138,
      "outputs": [
        {
          "output_type": "stream",
          "text": [
            "--2020-03-16 10:45:49--  https://raw.githubusercontent.com/sonichandni/Song-Recommendations/master/songs.csv\n",
            "Resolving raw.githubusercontent.com (raw.githubusercontent.com)... 151.101.0.133, 151.101.64.133, 151.101.128.133, ...\n",
            "Connecting to raw.githubusercontent.com (raw.githubusercontent.com)|151.101.0.133|:443... connected.\n",
            "HTTP request sent, awaiting response... 200 OK\n",
            "Length: 202933 (198K) [text/plain]\n",
            "Saving to: ‘songs.csv.2’\n",
            "\n",
            "\rsongs.csv.2           0%[                    ]       0  --.-KB/s               \rsongs.csv.2         100%[===================>] 198.18K  --.-KB/s    in 0.005s  \n",
            "\n",
            "2020-03-16 10:45:49 (41.3 MB/s) - ‘songs.csv.2’ saved [202933/202933]\n",
            "\n"
          ],
          "name": "stdout"
        },
        {
          "output_type": "execute_result",
          "data": {
            "text/html": [
              "<div>\n",
              "<style scoped>\n",
              "    .dataframe tbody tr th:only-of-type {\n",
              "        vertical-align: middle;\n",
              "    }\n",
              "\n",
              "    .dataframe tbody tr th {\n",
              "        vertical-align: top;\n",
              "    }\n",
              "\n",
              "    .dataframe thead th {\n",
              "        text-align: right;\n",
              "    }\n",
              "</style>\n",
              "<table border=\"1\" class=\"dataframe\">\n",
              "  <thead>\n",
              "    <tr style=\"text-align: right;\">\n",
              "      <th></th>\n",
              "      <th>Song-Name</th>\n",
              "      <th>Singer/Artists</th>\n",
              "      <th>Genre</th>\n",
              "      <th>Album/Movie</th>\n",
              "      <th>User-Rating</th>\n",
              "    </tr>\n",
              "  </thead>\n",
              "  <tbody>\n",
              "    <tr>\n",
              "      <th>1</th>\n",
              "      <td>Aankh Marey</td>\n",
              "      <td>Kumar Sanu, Mika Singh, Neha Kakkar</td>\n",
              "      <td>BollywoodDance</td>\n",
              "      <td>Simmba</td>\n",
              "      <td>8.8/10</td>\n",
              "    </tr>\n",
              "    <tr>\n",
              "      <th>2</th>\n",
              "      <td>Coca Cola</td>\n",
              "      <td>Neha Kakkar, Tony Kakkar</td>\n",
              "      <td>BollywoodDanceRomantic</td>\n",
              "      <td>Luka Chuppi</td>\n",
              "      <td>9.0/10</td>\n",
              "    </tr>\n",
              "    <tr>\n",
              "      <th>3</th>\n",
              "      <td>Apna Time Aayega</td>\n",
              "      <td>Ranveer Singh</td>\n",
              "      <td>BollywoodDance</td>\n",
              "      <td>Gully Boy</td>\n",
              "      <td>9.7/10</td>\n",
              "    </tr>\n",
              "    <tr>\n",
              "      <th>4</th>\n",
              "      <td>Mungda</td>\n",
              "      <td>Jyotica Tangri, Shaan, Subhro Ganguly</td>\n",
              "      <td>BollywoodDance</td>\n",
              "      <td>Total Dhamaal</td>\n",
              "      <td>9.1/10</td>\n",
              "    </tr>\n",
              "    <tr>\n",
              "      <th>5</th>\n",
              "      <td>Tere Bin</td>\n",
              "      <td>Asees Kaur, Rahat Fateh Ali Khan, Tanishk Bagchi</td>\n",
              "      <td>BollywoodRomantic</td>\n",
              "      <td>Simmba</td>\n",
              "      <td>9.2/10</td>\n",
              "    </tr>\n",
              "  </tbody>\n",
              "</table>\n",
              "</div>"
            ],
            "text/plain": [
              "          Song-Name  ... User-Rating\n",
              "1       Aankh Marey  ...      8.8/10\n",
              "2         Coca Cola  ...      9.0/10\n",
              "3  Apna Time Aayega  ...      9.7/10\n",
              "4            Mungda  ...      9.1/10\n",
              "5          Tere Bin  ...      9.2/10\n",
              "\n",
              "[5 rows x 5 columns]"
            ]
          },
          "metadata": {
            "tags": []
          },
          "execution_count": 138
        }
      ]
    },
    {
      "cell_type": "code",
      "metadata": {
        "id": "oJ18kjpnnAFP",
        "colab_type": "code",
        "outputId": "ebe65033-fd5f-4534-d474-23fb07f46d5a",
        "colab": {
          "base_uri": "https://localhost:8080/",
          "height": 34
        }
      },
      "source": [
        "df.shape"
      ],
      "execution_count": 139,
      "outputs": [
        {
          "output_type": "execute_result",
          "data": {
            "text/plain": [
              "(2420, 5)"
            ]
          },
          "metadata": {
            "tags": []
          },
          "execution_count": 139
        }
      ]
    },
    {
      "cell_type": "code",
      "metadata": {
        "id": "2dcGkCcsnFoc",
        "colab_type": "code",
        "outputId": "2b94ff3d-52f8-44fb-e6b4-cfd1874a727c",
        "colab": {
          "base_uri": "https://localhost:8080/",
          "height": 123
        }
      },
      "source": [
        "df.isnull().sum()"
      ],
      "execution_count": 140,
      "outputs": [
        {
          "output_type": "execute_result",
          "data": {
            "text/plain": [
              "Song-Name          0\n",
              "Singer/Artists    10\n",
              "Genre              0\n",
              "Album/Movie        3\n",
              "User-Rating        0\n",
              "dtype: int64"
            ]
          },
          "metadata": {
            "tags": []
          },
          "execution_count": 140
        }
      ]
    },
    {
      "cell_type": "code",
      "metadata": {
        "id": "ywb3ZcednIb5",
        "colab_type": "code",
        "colab": {}
      },
      "source": [
        "df['SongCode'] = [\"SB\" + str(i) for i in range(df.shape[0])]"
      ],
      "execution_count": 0,
      "outputs": []
    },
    {
      "cell_type": "code",
      "metadata": {
        "id": "sM5v7kKSopQJ",
        "colab_type": "code",
        "outputId": "1f3fd954-0d3e-4598-8f15-81de7e527987",
        "colab": {
          "base_uri": "https://localhost:8080/",
          "height": 197
        }
      },
      "source": [
        "df.head()"
      ],
      "execution_count": 142,
      "outputs": [
        {
          "output_type": "execute_result",
          "data": {
            "text/html": [
              "<div>\n",
              "<style scoped>\n",
              "    .dataframe tbody tr th:only-of-type {\n",
              "        vertical-align: middle;\n",
              "    }\n",
              "\n",
              "    .dataframe tbody tr th {\n",
              "        vertical-align: top;\n",
              "    }\n",
              "\n",
              "    .dataframe thead th {\n",
              "        text-align: right;\n",
              "    }\n",
              "</style>\n",
              "<table border=\"1\" class=\"dataframe\">\n",
              "  <thead>\n",
              "    <tr style=\"text-align: right;\">\n",
              "      <th></th>\n",
              "      <th>Song-Name</th>\n",
              "      <th>Singer/Artists</th>\n",
              "      <th>Genre</th>\n",
              "      <th>Album/Movie</th>\n",
              "      <th>User-Rating</th>\n",
              "      <th>SongCode</th>\n",
              "    </tr>\n",
              "  </thead>\n",
              "  <tbody>\n",
              "    <tr>\n",
              "      <th>1</th>\n",
              "      <td>Aankh Marey</td>\n",
              "      <td>Kumar Sanu, Mika Singh, Neha Kakkar</td>\n",
              "      <td>BollywoodDance</td>\n",
              "      <td>Simmba</td>\n",
              "      <td>8.8/10</td>\n",
              "      <td>SB0</td>\n",
              "    </tr>\n",
              "    <tr>\n",
              "      <th>2</th>\n",
              "      <td>Coca Cola</td>\n",
              "      <td>Neha Kakkar, Tony Kakkar</td>\n",
              "      <td>BollywoodDanceRomantic</td>\n",
              "      <td>Luka Chuppi</td>\n",
              "      <td>9.0/10</td>\n",
              "      <td>SB1</td>\n",
              "    </tr>\n",
              "    <tr>\n",
              "      <th>3</th>\n",
              "      <td>Apna Time Aayega</td>\n",
              "      <td>Ranveer Singh</td>\n",
              "      <td>BollywoodDance</td>\n",
              "      <td>Gully Boy</td>\n",
              "      <td>9.7/10</td>\n",
              "      <td>SB2</td>\n",
              "    </tr>\n",
              "    <tr>\n",
              "      <th>4</th>\n",
              "      <td>Mungda</td>\n",
              "      <td>Jyotica Tangri, Shaan, Subhro Ganguly</td>\n",
              "      <td>BollywoodDance</td>\n",
              "      <td>Total Dhamaal</td>\n",
              "      <td>9.1/10</td>\n",
              "      <td>SB3</td>\n",
              "    </tr>\n",
              "    <tr>\n",
              "      <th>5</th>\n",
              "      <td>Tere Bin</td>\n",
              "      <td>Asees Kaur, Rahat Fateh Ali Khan, Tanishk Bagchi</td>\n",
              "      <td>BollywoodRomantic</td>\n",
              "      <td>Simmba</td>\n",
              "      <td>9.2/10</td>\n",
              "      <td>SB4</td>\n",
              "    </tr>\n",
              "  </tbody>\n",
              "</table>\n",
              "</div>"
            ],
            "text/plain": [
              "          Song-Name  ... SongCode\n",
              "1       Aankh Marey  ...      SB0\n",
              "2         Coca Cola  ...      SB1\n",
              "3  Apna Time Aayega  ...      SB2\n",
              "4            Mungda  ...      SB3\n",
              "5          Tere Bin  ...      SB4\n",
              "\n",
              "[5 rows x 6 columns]"
            ]
          },
          "metadata": {
            "tags": []
          },
          "execution_count": 142
        }
      ]
    },
    {
      "cell_type": "code",
      "metadata": {
        "id": "BiITqiZpowYP",
        "colab_type": "code",
        "outputId": "d45895e3-6bc1-4502-f623-89bd78617eb3",
        "colab": {
          "base_uri": "https://localhost:8080/",
          "height": 34
        }
      },
      "source": [
        "songs = df[\"Genre\"].unique().tolist()\n",
        "len(songs)"
      ],
      "execution_count": 143,
      "outputs": [
        {
          "output_type": "execute_result",
          "data": {
            "text/plain": [
              "21"
            ]
          },
          "metadata": {
            "tags": []
          },
          "execution_count": 143
        }
      ]
    },
    {
      "cell_type": "code",
      "metadata": {
        "id": "DJjxrE71o4tC",
        "colab_type": "code",
        "colab": {}
      },
      "source": [
        "# shuffle song ID's\n",
        "random.shuffle(songs)\n",
        "\n",
        "# extract 90% of song ID's\n",
        "song_train = [songs[i] for i in range(round(0.9*len(songs)))]\n",
        "\n",
        "# split data into train and validation set\n",
        "train_df = df[df['Genre'].isin(song_train)]\n",
        "validation_df = df[~df['Genre'].isin(song_train)]"
      ],
      "execution_count": 0,
      "outputs": []
    },
    {
      "cell_type": "code",
      "metadata": {
        "id": "Gc7zCxkhpPyv",
        "colab_type": "code",
        "outputId": "e5a42f5c-4eb2-44d4-c2d9-d087dea7bb03",
        "colab": {
          "base_uri": "https://localhost:8080/",
          "height": 34
        }
      },
      "source": [
        "# list to capture the genre\n",
        "like_train = []\n",
        "\n",
        "# populate the list with the product codes\n",
        "for i in tqdm(song_train):\n",
        "    temp = train_df[train_df[\"Genre\"] == i][\"SongCode\"].tolist()\n",
        "    like_train.append(temp)"
      ],
      "execution_count": 145,
      "outputs": [
        {
          "output_type": "stream",
          "text": [
            "100%|██████████| 19/19 [00:00<00:00, 950.65it/s]\n"
          ],
          "name": "stderr"
        }
      ]
    },
    {
      "cell_type": "code",
      "metadata": {
        "id": "RibMuIdWpg-3",
        "colab_type": "code",
        "outputId": "bfef3b50-5556-4a79-d868-b5d36a81958d",
        "colab": {
          "base_uri": "https://localhost:8080/",
          "height": 34
        }
      },
      "source": [
        "# list to capture the genre\n",
        "like_val = []\n",
        "\n",
        "# populate the list with the song codes\n",
        "for i in tqdm(validation_df['Genre'].unique()):\n",
        "    temp = validation_df[validation_df[\"Genre\"] == i][\"SongCode\"].tolist()\n",
        "    like_val.append(temp)"
      ],
      "execution_count": 146,
      "outputs": [
        {
          "output_type": "stream",
          "text": [
            "100%|██████████| 2/2 [00:00<00:00, 510.88it/s]\n"
          ],
          "name": "stderr"
        }
      ]
    },
    {
      "cell_type": "code",
      "metadata": {
        "id": "pAIFd-lWpjjJ",
        "colab_type": "code",
        "colab": {}
      },
      "source": [
        "# train word2vec model\n",
        "model = Word2Vec(window = 5, sg = 1, hs = 0,\n",
        "                 negative = 10, # for negative sampling\n",
        "                 alpha=0.03, min_alpha=0.0007,\n",
        "                 seed = 14, min_count=1)\n",
        "\n",
        "model.build_vocab(like_train, progress_per=200)"
      ],
      "execution_count": 0,
      "outputs": []
    },
    {
      "cell_type": "code",
      "metadata": {
        "id": "lHG2xC4_sBrR",
        "colab_type": "code",
        "outputId": "edbabc26-fc39-4368-cd8d-be7b8d4e22bb",
        "colab": {
          "base_uri": "https://localhost:8080/",
          "height": 34
        }
      },
      "source": [
        "model.train(like_train, total_examples = model.corpus_count, \n",
        "            epochs=10, report_delay=1)"
      ],
      "execution_count": 148,
      "outputs": [
        {
          "output_type": "execute_result",
          "data": {
            "text/plain": [
              "(23810, 23810)"
            ]
          },
          "metadata": {
            "tags": []
          },
          "execution_count": 148
        }
      ]
    },
    {
      "cell_type": "code",
      "metadata": {
        "id": "jqn3PmvAU8F_",
        "colab_type": "code",
        "colab": {}
      },
      "source": [
        "model.init_sims(replace=True)"
      ],
      "execution_count": 0,
      "outputs": []
    },
    {
      "cell_type": "code",
      "metadata": {
        "id": "2jhId_ZJU-QJ",
        "colab_type": "code",
        "outputId": "0e1fb535-7f58-4ba8-86c5-9d4d4b3d21de",
        "colab": {
          "base_uri": "https://localhost:8080/",
          "height": 34
        }
      },
      "source": [
        "print(model)"
      ],
      "execution_count": 150,
      "outputs": [
        {
          "output_type": "stream",
          "text": [
            "Word2Vec(vocab=2381, size=100, alpha=0.03)\n"
          ],
          "name": "stdout"
        }
      ]
    },
    {
      "cell_type": "code",
      "metadata": {
        "id": "3lKwHzaHU_1L",
        "colab_type": "code",
        "colab": {}
      },
      "source": [
        "# # extract all vectors\n",
        "# X = model[model.wv.vocab]\n",
        "\n",
        "# X.shape\n",
        "# test = model.wv.most_similar('SB1057')\n",
        "# # for t in test:\n",
        "# #   for d in df:\n",
        "#     # print(d.type)\n",
        "#     # # if(d['SongCode'] == t[0]):\n",
        "#     #   print(d['Song-Name'])\n",
        "#     #   print(t[0])\n",
        "# # df.head()\n",
        "# test\n",
        "# # df.loc[df['SongCode'].isin(test[0])]\n",
        "# # df.loc[df['SongCode'] == 'SB1']\n"
      ],
      "execution_count": 0,
      "outputs": []
    },
    {
      "cell_type": "code",
      "metadata": {
        "id": "Q6nsDvo9rVMH",
        "colab_type": "code",
        "colab": {}
      },
      "source": [
        "# columns = list(df)\n",
        "# data = []\n",
        "# df1 = pd.DataFrame(columns = df.columns)\n",
        "# for t in test:\n",
        "#   c = df.loc[lambda df: df['SongCode'] == t[0]]\n",
        "#   print(c.values)\n",
        "#   # zipped = zip(columns, c.values)\n",
        "#   # a_dictionary = dict(zipped)\n",
        "#   # print(a_dictionary)\n",
        "#   data.append(c.values)\n",
        "\n",
        "# # \n",
        "# # df1 = df1.append(data, True)\n",
        "# # # df1 = pd.DataFrame(data, columns=columns)\n",
        "# # df1 = pd.DataFrame(data=data,columns=df.columns)\n",
        "# # df1"
      ],
      "execution_count": 0,
      "outputs": []
    },
    {
      "cell_type": "code",
      "metadata": {
        "id": "z9aXwk-WIy_1",
        "colab_type": "code",
        "colab": {}
      },
      "source": [
        "# columns = list(df)\n",
        "# data = []\n",
        "# df1 = pd.DataFrame(columns = df.columns)\n",
        "# for t in test:\n",
        "#   df1 = df.loc[df['SongCode'] == t[0]]\n",
        "#   df1 = df.loc[lambda df: df['SongCode'] == t[0]]\n",
        "  \n",
        "# df1"
      ],
      "execution_count": 0,
      "outputs": []
    },
    {
      "cell_type": "code",
      "metadata": {
        "id": "F7m8PujPVBk-",
        "colab_type": "code",
        "outputId": "013aa235-7767-4428-d8b7-50b59dcd705e",
        "colab": {
          "base_uri": "https://localhost:8080/",
          "height": 554
        }
      },
      "source": [
        "import umap\n",
        "\n",
        "cluster_embedding = umap.UMAP(n_neighbors=30, min_dist=0.0,\n",
        "                              n_components=2, random_state=42).fit_transform(X)\n",
        "\n",
        "plt.figure(figsize=(10,9))\n",
        "plt.scatter(cluster_embedding[:, 0], cluster_embedding[:, 1], s=3, cmap='Spectral')"
      ],
      "execution_count": 153,
      "outputs": [
        {
          "output_type": "execute_result",
          "data": {
            "text/plain": [
              "<matplotlib.collections.PathCollection at 0x7f9903571e10>"
            ]
          },
          "metadata": {
            "tags": []
          },
          "execution_count": 153
        },
        {
          "output_type": "display_data",
          "data": {
            "image/png": "[encoded data removed]",
            "text/plain": [
              "<Figure size 720x648 with 1 Axes>"
            ]
          },
          "metadata": {
            "tags": []
          }
        }
      ]
    },
    {
      "cell_type": "code",
      "metadata": {
        "id": "UW-yalAFVEac",
        "colab_type": "code",
        "colab": {}
      },
      "source": [
        "sng = train_df[[\"SongCode\", \"Song-Name\",\"Genre\"]]\n",
        "# sng\n",
        "# remove duplicates\n",
        "# sng.drop_duplicates(inplace=True, subset='SongCode', keep=\"last\")\n",
        "\n",
        "# # create song-ID and Song-Name dictionary\n",
        "sng_dict = sng.groupby('SongCode')['Song-Name'].apply(list).to_dict()\n",
        "# sng_dict"
      ],
      "execution_count": 0,
      "outputs": []
    },
    {
      "cell_type": "code",
      "metadata": {
        "id": "qHzbvGH2VGgB",
        "colab_type": "code",
        "outputId": "98ce07d4-5d78-4588-a44d-de43a13d58a2",
        "colab": {
          "base_uri": "https://localhost:8080/",
          "height": 34
        }
      },
      "source": [
        "# test the dictionary\n",
        "sng_dict['SB649']"
      ],
      "execution_count": 155,
      "outputs": [
        {
          "output_type": "execute_result",
          "data": {
            "text/plain": [
              "['Subhanallah']"
            ]
          },
          "metadata": {
            "tags": []
          },
          "execution_count": 155
        }
      ]
    },
    {
      "cell_type": "code",
      "metadata": {
        "id": "ueW0v5_NVIJy",
        "colab_type": "code",
        "colab": {}
      },
      "source": [
        "def similar_songs(v, n = 6):\n",
        "    \n",
        "    # extract most similar song for the input vector\n",
        "    ms = model.similar_by_vector(v, topn= n+1)[1:]\n",
        "    # print(ms)\n",
        "    # print(sng_dict)\n",
        "    # extract name and similarity score of the similar song\n",
        "    new_ms = []\n",
        "    for j in ms:\n",
        "        pair = (sng_dict[j[0]][0], j[1])\n",
        "        new_ms.append(pair)\n",
        "        \n",
        "    return new_ms    "
      ],
      "execution_count": 0,
      "outputs": []
    },
    {
      "cell_type": "code",
      "metadata": {
        "id": "ztjWr42SVK4b",
        "colab_type": "code",
        "outputId": "d57ac242-285d-4a88-b49a-57b7542d3f7e",
        "colab": {
          "base_uri": "https://localhost:8080/",
          "height": 123
        }
      },
      "source": [
        "similar_songs(model['SB649'])"
      ],
      "execution_count": 157,
      "outputs": [
        {
          "output_type": "execute_result",
          "data": {
            "text/plain": [
              "[('Musafir', 0.6709380745887756),\n",
              " ('Tu Hi Meri Shab Hai', 0.6442582607269287),\n",
              " ('Koi Mil Gaya', 0.6425020694732666),\n",
              " ('Aap Ki Nazron Ne Samjha', 0.635926365852356),\n",
              " ('Meri Khamoshi Hai', 0.6357775926589966),\n",
              " ('Dooriyan', 0.6345308423042297)]"
            ]
          },
          "metadata": {
            "tags": []
          },
          "execution_count": 157
        }
      ]
    }
  ]
}